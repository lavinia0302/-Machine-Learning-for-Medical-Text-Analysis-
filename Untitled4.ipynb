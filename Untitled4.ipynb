{
  "nbformat": 4,
  "nbformat_minor": 0,
  "metadata": {
    "colab": {
      "provenance": [],
      "machine_shape": "hm",
      "gpuType": "A100"
    },
    "kernelspec": {
      "name": "python3",
      "display_name": "Python 3"
    },
    "language_info": {
      "name": "python"
    },
    "accelerator": "GPU"
  },
  "cells": [
    {
      "cell_type": "code",
      "execution_count": null,
      "metadata": {
        "colab": {
          "base_uri": "https://localhost:8080/"
        },
        "id": "_15BGz7pY55Y",
        "outputId": "62819134-1e29-48e1-b1f6-bb3998bf30c8"
      },
      "outputs": [
        {
          "output_type": "stream",
          "name": "stdout",
          "text": [
            "Requirement already satisfied: flask in /usr/local/lib/python3.11/dist-packages (3.1.0)\n",
            "Collecting flask-cors\n",
            "  Downloading flask_cors-5.0.1-py3-none-any.whl.metadata (961 bytes)\n",
            "Collecting pyngrok\n",
            "  Downloading pyngrok-7.2.3-py3-none-any.whl.metadata (8.7 kB)\n",
            "Requirement already satisfied: Werkzeug>=3.1 in /usr/local/lib/python3.11/dist-packages (from flask) (3.1.3)\n",
            "Requirement already satisfied: Jinja2>=3.1.2 in /usr/local/lib/python3.11/dist-packages (from flask) (3.1.5)\n",
            "Requirement already satisfied: itsdangerous>=2.2 in /usr/local/lib/python3.11/dist-packages (from flask) (2.2.0)\n",
            "Requirement already satisfied: click>=8.1.3 in /usr/local/lib/python3.11/dist-packages (from flask) (8.1.8)\n",
            "Requirement already satisfied: blinker>=1.9 in /usr/local/lib/python3.11/dist-packages (from flask) (1.9.0)\n",
            "Requirement already satisfied: PyYAML>=5.1 in /usr/local/lib/python3.11/dist-packages (from pyngrok) (6.0.2)\n",
            "Requirement already satisfied: MarkupSafe>=2.0 in /usr/local/lib/python3.11/dist-packages (from Jinja2>=3.1.2->flask) (3.0.2)\n",
            "Downloading flask_cors-5.0.1-py3-none-any.whl (11 kB)\n",
            "Downloading pyngrok-7.2.3-py3-none-any.whl (23 kB)\n",
            "Installing collected packages: pyngrok, flask-cors\n",
            "Successfully installed flask-cors-5.0.1 pyngrok-7.2.3\n"
          ]
        }
      ],
      "source": [
        "!pip install flask flask-cors pyngrok\n"
      ]
    },
    {
      "cell_type": "code",
      "source": [
        "from pyngrok import ngrok\n",
        "\n",
        "# Înlocuiește <TOKENUL_TAU_NGROK> cu token-ul tău copiat\n",
        "ngrok.set_auth_token(\"2tG6oVwqRI5Mif7dLCUYIcWnSOv_3mWV1sePuE7V24zVgDU5b\")\n"
      ],
      "metadata": {
        "colab": {
          "base_uri": "https://localhost:8080/"
        },
        "id": "VG7mN6YIZ7tD",
        "outputId": "706a9249-ea19-49e4-d0c1-d4fd9acac11b"
      },
      "execution_count": null,
      "outputs": [
        {
          "output_type": "stream",
          "name": "stdout",
          "text": []
        }
      ]
    },
    {
      "cell_type": "code",
      "source": [
        "import threading\n",
        "import requests  # pentru test\n",
        "from flask import Flask, request, jsonify\n",
        "from flask_cors import CORS\n",
        "\n",
        "app = Flask(__name__)\n",
        "CORS(app)\n",
        "\n",
        "# Exemplu: un endpoint de tip POST la \"/predict\"\n",
        "@app.route(\"/predict\", methods=[\"POST\"])\n",
        "def predict():\n",
        "    data = request.get_json()\n",
        "    input_text = data.get(\"text\", \"\")\n",
        "\n",
        "    # Aici apelezi modelul tău (dacă ai, de ex. un model de sumarizare)\n",
        "    # summary = summarization_model(input_text)\n",
        "    # Pentru demo, doar returnăm un text\n",
        "    summary = f\"Rezumat (Colab demo) pentru: {input_text[:60]}...\"\n",
        "\n",
        "    return jsonify({\"summary\": summary})\n",
        "\n",
        "# Funcție pentru a porni serverul local pe port 5000\n",
        "def run_app():\n",
        "    app.run(host=\"0.0.0.0\", port=5000)\n"
      ],
      "metadata": {
        "id": "HjIL1_B1aC3e"
      },
      "execution_count": null,
      "outputs": []
    },
    {
      "cell_type": "code",
      "source": [
        "from pyngrok import ngrok\n",
        "\n",
        "# Conectăm portul 5000 la ngrok\n",
        "public_url = ngrok.connect(5000)\n",
        "print(\"Ngrok tunnel URL:\", public_url.public_url)\n",
        "\n",
        "# Pornim serverul Flask într-un thread (ca să nu blocheze notebook-ul)\n",
        "import threading\n",
        "server_thread = threading.Thread(target=run_app)\n",
        "server_thread.start()\n"
      ],
      "metadata": {
        "colab": {
          "base_uri": "https://localhost:8080/"
        },
        "id": "i39BC7CBaJLz",
        "outputId": "f94add84-14b6-4b1a-a987-aa9730e57f1b"
      },
      "execution_count": null,
      "outputs": [
        {
          "output_type": "stream",
          "name": "stdout",
          "text": [
            "Ngrok tunnel URL: https://ca42-34-171-206-79.ngrok-free.app\n",
            " * Serving Flask app '__main__'\n",
            " * Debug mode: off\n"
          ]
        }
      ]
    },
    {
      "cell_type": "code",
      "source": [
        "import requests\n",
        "\n",
        "url = f\"{public_url.public_url}/predict\"\n",
        "response = requests.post(url, json={\"text\": \"Am un text medical lung pentru sumarizare...\"})\n",
        "\n",
        "print(\"Status code:\", response.status_code)\n",
        "print(\"Răspuns JSON:\", response.json())"
      ],
      "metadata": {
        "id": "YSPvE3JDaW55",
        "outputId": "a87b8bf9-9113-4b0c-d5e7-c86782d0a891",
        "colab": {
          "base_uri": "https://localhost:8080/"
        }
      },
      "execution_count": null,
      "outputs": [
        {
          "output_type": "stream",
          "name": "stderr",
          "text": [
            "INFO:werkzeug:127.0.0.1 - - [24/Feb/2025 14:43:27] \"POST /predict HTTP/1.1\" 200 -\n"
          ]
        },
        {
          "output_type": "stream",
          "name": "stdout",
          "text": [
            "Status code: 200\n",
            "Răspuns JSON: {'summary': 'Rezumat (Colab demo) pentru: Am un text medical lung pentru sumarizare......'}\n"
          ]
        }
      ]
    }
  ]
}