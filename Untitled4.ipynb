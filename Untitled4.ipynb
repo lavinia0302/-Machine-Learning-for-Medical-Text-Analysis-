{
  "nbformat": 4,
  "nbformat_minor": 0,
  "metadata": {
    "colab": {
      "provenance": [],
      "gpuType": "A100",
      "machine_shape": "hm"
    },
    "kernelspec": {
      "name": "python3",
      "display_name": "Python 3"
    },
    "language_info": {
      "name": "python"
    },
    "accelerator": "GPU",
    "widgets": {
      "application/vnd.jupyter.widget-state+json": {
        "7114b62a8e83483f89cd493ec707e286": {
          "model_module": "@jupyter-widgets/controls",
          "model_name": "HBoxModel",
          "model_module_version": "1.5.0",
          "state": {
            "_dom_classes": [],
            "_model_module": "@jupyter-widgets/controls",
            "_model_module_version": "1.5.0",
            "_model_name": "HBoxModel",
            "_view_count": null,
            "_view_module": "@jupyter-widgets/controls",
            "_view_module_version": "1.5.0",
            "_view_name": "HBoxView",
            "box_style": "",
            "children": [
              "IPY_MODEL_5ef39b92eba84cfcb5813d18a9ba90de",
              "IPY_MODEL_85a4d85ca62a46f6a249c6e0a5a2c697",
              "IPY_MODEL_a9eaa7c7d5bd407e8e272d485bde9880"
            ],
            "layout": "IPY_MODEL_9b4adbb6f5ec4356b517203eeccd67b3"
          }
        },
        "5ef39b92eba84cfcb5813d18a9ba90de": {
          "model_module": "@jupyter-widgets/controls",
          "model_name": "HTMLModel",
          "model_module_version": "1.5.0",
          "state": {
            "_dom_classes": [],
            "_model_module": "@jupyter-widgets/controls",
            "_model_module_version": "1.5.0",
            "_model_name": "HTMLModel",
            "_view_count": null,
            "_view_module": "@jupyter-widgets/controls",
            "_view_module_version": "1.5.0",
            "_view_name": "HTMLView",
            "description": "",
            "description_tooltip": null,
            "layout": "IPY_MODEL_cb96bd5884f34b9298b7703957301817",
            "placeholder": "​",
            "style": "IPY_MODEL_eddc2b10532941deaecce21a52d12eaf",
            "value": "Loading checkpoint shards: 100%"
          }
        },
        "85a4d85ca62a46f6a249c6e0a5a2c697": {
          "model_module": "@jupyter-widgets/controls",
          "model_name": "FloatProgressModel",
          "model_module_version": "1.5.0",
          "state": {
            "_dom_classes": [],
            "_model_module": "@jupyter-widgets/controls",
            "_model_module_version": "1.5.0",
            "_model_name": "FloatProgressModel",
            "_view_count": null,
            "_view_module": "@jupyter-widgets/controls",
            "_view_module_version": "1.5.0",
            "_view_name": "ProgressView",
            "bar_style": "success",
            "description": "",
            "description_tooltip": null,
            "layout": "IPY_MODEL_2cea3d9c9f5f4a21963bd4fdaeb9ba36",
            "max": 3,
            "min": 0,
            "orientation": "horizontal",
            "style": "IPY_MODEL_50a7d87f92ed4458941d7848cc9907a6",
            "value": 3
          }
        },
        "a9eaa7c7d5bd407e8e272d485bde9880": {
          "model_module": "@jupyter-widgets/controls",
          "model_name": "HTMLModel",
          "model_module_version": "1.5.0",
          "state": {
            "_dom_classes": [],
            "_model_module": "@jupyter-widgets/controls",
            "_model_module_version": "1.5.0",
            "_model_name": "HTMLModel",
            "_view_count": null,
            "_view_module": "@jupyter-widgets/controls",
            "_view_module_version": "1.5.0",
            "_view_name": "HTMLView",
            "description": "",
            "description_tooltip": null,
            "layout": "IPY_MODEL_7754975a0fb14172a113199d0a26d0d5",
            "placeholder": "​",
            "style": "IPY_MODEL_06966a93d387431486a4a5cb079a38f9",
            "value": " 3/3 [00:12&lt;00:00,  4.20s/it]"
          }
        },
        "9b4adbb6f5ec4356b517203eeccd67b3": {
          "model_module": "@jupyter-widgets/base",
          "model_name": "LayoutModel",
          "model_module_version": "1.2.0",
          "state": {
            "_model_module": "@jupyter-widgets/base",
            "_model_module_version": "1.2.0",
            "_model_name": "LayoutModel",
            "_view_count": null,
            "_view_module": "@jupyter-widgets/base",
            "_view_module_version": "1.2.0",
            "_view_name": "LayoutView",
            "align_content": null,
            "align_items": null,
            "align_self": null,
            "border": null,
            "bottom": null,
            "display": null,
            "flex": null,
            "flex_flow": null,
            "grid_area": null,
            "grid_auto_columns": null,
            "grid_auto_flow": null,
            "grid_auto_rows": null,
            "grid_column": null,
            "grid_gap": null,
            "grid_row": null,
            "grid_template_areas": null,
            "grid_template_columns": null,
            "grid_template_rows": null,
            "height": null,
            "justify_content": null,
            "justify_items": null,
            "left": null,
            "margin": null,
            "max_height": null,
            "max_width": null,
            "min_height": null,
            "min_width": null,
            "object_fit": null,
            "object_position": null,
            "order": null,
            "overflow": null,
            "overflow_x": null,
            "overflow_y": null,
            "padding": null,
            "right": null,
            "top": null,
            "visibility": null,
            "width": null
          }
        },
        "cb96bd5884f34b9298b7703957301817": {
          "model_module": "@jupyter-widgets/base",
          "model_name": "LayoutModel",
          "model_module_version": "1.2.0",
          "state": {
            "_model_module": "@jupyter-widgets/base",
            "_model_module_version": "1.2.0",
            "_model_name": "LayoutModel",
            "_view_count": null,
            "_view_module": "@jupyter-widgets/base",
            "_view_module_version": "1.2.0",
            "_view_name": "LayoutView",
            "align_content": null,
            "align_items": null,
            "align_self": null,
            "border": null,
            "bottom": null,
            "display": null,
            "flex": null,
            "flex_flow": null,
            "grid_area": null,
            "grid_auto_columns": null,
            "grid_auto_flow": null,
            "grid_auto_rows": null,
            "grid_column": null,
            "grid_gap": null,
            "grid_row": null,
            "grid_template_areas": null,
            "grid_template_columns": null,
            "grid_template_rows": null,
            "height": null,
            "justify_content": null,
            "justify_items": null,
            "left": null,
            "margin": null,
            "max_height": null,
            "max_width": null,
            "min_height": null,
            "min_width": null,
            "object_fit": null,
            "object_position": null,
            "order": null,
            "overflow": null,
            "overflow_x": null,
            "overflow_y": null,
            "padding": null,
            "right": null,
            "top": null,
            "visibility": null,
            "width": null
          }
        },
        "eddc2b10532941deaecce21a52d12eaf": {
          "model_module": "@jupyter-widgets/controls",
          "model_name": "DescriptionStyleModel",
          "model_module_version": "1.5.0",
          "state": {
            "_model_module": "@jupyter-widgets/controls",
            "_model_module_version": "1.5.0",
            "_model_name": "DescriptionStyleModel",
            "_view_count": null,
            "_view_module": "@jupyter-widgets/base",
            "_view_module_version": "1.2.0",
            "_view_name": "StyleView",
            "description_width": ""
          }
        },
        "2cea3d9c9f5f4a21963bd4fdaeb9ba36": {
          "model_module": "@jupyter-widgets/base",
          "model_name": "LayoutModel",
          "model_module_version": "1.2.0",
          "state": {
            "_model_module": "@jupyter-widgets/base",
            "_model_module_version": "1.2.0",
            "_model_name": "LayoutModel",
            "_view_count": null,
            "_view_module": "@jupyter-widgets/base",
            "_view_module_version": "1.2.0",
            "_view_name": "LayoutView",
            "align_content": null,
            "align_items": null,
            "align_self": null,
            "border": null,
            "bottom": null,
            "display": null,
            "flex": null,
            "flex_flow": null,
            "grid_area": null,
            "grid_auto_columns": null,
            "grid_auto_flow": null,
            "grid_auto_rows": null,
            "grid_column": null,
            "grid_gap": null,
            "grid_row": null,
            "grid_template_areas": null,
            "grid_template_columns": null,
            "grid_template_rows": null,
            "height": null,
            "justify_content": null,
            "justify_items": null,
            "left": null,
            "margin": null,
            "max_height": null,
            "max_width": null,
            "min_height": null,
            "min_width": null,
            "object_fit": null,
            "object_position": null,
            "order": null,
            "overflow": null,
            "overflow_x": null,
            "overflow_y": null,
            "padding": null,
            "right": null,
            "top": null,
            "visibility": null,
            "width": null
          }
        },
        "50a7d87f92ed4458941d7848cc9907a6": {
          "model_module": "@jupyter-widgets/controls",
          "model_name": "ProgressStyleModel",
          "model_module_version": "1.5.0",
          "state": {
            "_model_module": "@jupyter-widgets/controls",
            "_model_module_version": "1.5.0",
            "_model_name": "ProgressStyleModel",
            "_view_count": null,
            "_view_module": "@jupyter-widgets/base",
            "_view_module_version": "1.2.0",
            "_view_name": "StyleView",
            "bar_color": null,
            "description_width": ""
          }
        },
        "7754975a0fb14172a113199d0a26d0d5": {
          "model_module": "@jupyter-widgets/base",
          "model_name": "LayoutModel",
          "model_module_version": "1.2.0",
          "state": {
            "_model_module": "@jupyter-widgets/base",
            "_model_module_version": "1.2.0",
            "_model_name": "LayoutModel",
            "_view_count": null,
            "_view_module": "@jupyter-widgets/base",
            "_view_module_version": "1.2.0",
            "_view_name": "LayoutView",
            "align_content": null,
            "align_items": null,
            "align_self": null,
            "border": null,
            "bottom": null,
            "display": null,
            "flex": null,
            "flex_flow": null,
            "grid_area": null,
            "grid_auto_columns": null,
            "grid_auto_flow": null,
            "grid_auto_rows": null,
            "grid_column": null,
            "grid_gap": null,
            "grid_row": null,
            "grid_template_areas": null,
            "grid_template_columns": null,
            "grid_template_rows": null,
            "height": null,
            "justify_content": null,
            "justify_items": null,
            "left": null,
            "margin": null,
            "max_height": null,
            "max_width": null,
            "min_height": null,
            "min_width": null,
            "object_fit": null,
            "object_position": null,
            "order": null,
            "overflow": null,
            "overflow_x": null,
            "overflow_y": null,
            "padding": null,
            "right": null,
            "top": null,
            "visibility": null,
            "width": null
          }
        },
        "06966a93d387431486a4a5cb079a38f9": {
          "model_module": "@jupyter-widgets/controls",
          "model_name": "DescriptionStyleModel",
          "model_module_version": "1.5.0",
          "state": {
            "_model_module": "@jupyter-widgets/controls",
            "_model_module_version": "1.5.0",
            "_model_name": "DescriptionStyleModel",
            "_view_count": null,
            "_view_module": "@jupyter-widgets/base",
            "_view_module_version": "1.2.0",
            "_view_name": "StyleView",
            "description_width": ""
          }
        }
      }
    }
  },
  "cells": [
    {
      "cell_type": "code",
      "execution_count": null,
      "metadata": {
        "colab": {
          "base_uri": "https://localhost:8080/"
        },
        "id": "elpkkbjBre5R",
        "outputId": "64365097-3b9e-49d7-d0c3-5d548ea8569b"
      },
      "outputs": [
        {
          "output_type": "stream",
          "name": "stdout",
          "text": [
            "Collecting opendatasets\n",
            "  Downloading opendatasets-0.1.22-py3-none-any.whl.metadata (9.2 kB)\n",
            "Requirement already satisfied: tqdm in /usr/local/lib/python3.11/dist-packages (from opendatasets) (4.67.1)\n",
            "Requirement already satisfied: kaggle in /usr/local/lib/python3.11/dist-packages (from opendatasets) (1.6.17)\n",
            "Requirement already satisfied: click in /usr/local/lib/python3.11/dist-packages (from opendatasets) (8.1.8)\n",
            "Requirement already satisfied: six>=1.10 in /usr/local/lib/python3.11/dist-packages (from kaggle->opendatasets) (1.17.0)\n",
            "Requirement already satisfied: certifi>=2023.7.22 in /usr/local/lib/python3.11/dist-packages (from kaggle->opendatasets) (2025.1.31)\n",
            "Requirement already satisfied: python-dateutil in /usr/local/lib/python3.11/dist-packages (from kaggle->opendatasets) (2.8.2)\n",
            "Requirement already satisfied: requests in /usr/local/lib/python3.11/dist-packages (from kaggle->opendatasets) (2.32.3)\n",
            "Requirement already satisfied: python-slugify in /usr/local/lib/python3.11/dist-packages (from kaggle->opendatasets) (8.0.4)\n",
            "Requirement already satisfied: urllib3 in /usr/local/lib/python3.11/dist-packages (from kaggle->opendatasets) (2.3.0)\n",
            "Requirement already satisfied: bleach in /usr/local/lib/python3.11/dist-packages (from kaggle->opendatasets) (6.2.0)\n",
            "Requirement already satisfied: webencodings in /usr/local/lib/python3.11/dist-packages (from bleach->kaggle->opendatasets) (0.5.1)\n",
            "Requirement already satisfied: text-unidecode>=1.3 in /usr/local/lib/python3.11/dist-packages (from python-slugify->kaggle->opendatasets) (1.3)\n",
            "Requirement already satisfied: charset-normalizer<4,>=2 in /usr/local/lib/python3.11/dist-packages (from requests->kaggle->opendatasets) (3.4.1)\n",
            "Requirement already satisfied: idna<4,>=2.5 in /usr/local/lib/python3.11/dist-packages (from requests->kaggle->opendatasets) (3.10)\n",
            "Downloading opendatasets-0.1.22-py3-none-any.whl (15 kB)\n",
            "Installing collected packages: opendatasets\n",
            "Successfully installed opendatasets-0.1.22\n"
          ]
        }
      ],
      "source": [
        "!pip install opendatasets"
      ]
    },
    {
      "cell_type": "code",
      "source": [
        "import opendatasets as od\n",
        "od.download(\"https://www.kaggle.com/datasets/ahmadsaladin/mistral-7b-it-v02\")"
      ],
      "metadata": {
        "colab": {
          "base_uri": "https://localhost:8080/"
        },
        "id": "IdXav9rMuUSc",
        "outputId": "6b588049-3332-432e-dbc8-cd3a43a3dc82"
      },
      "execution_count": null,
      "outputs": [
        {
          "output_type": "stream",
          "name": "stdout",
          "text": [
            "Please provide your Kaggle credentials to download this dataset. Learn more: http://bit.ly/kaggle-creds\n",
            "Your Kaggle username: laviniaardeleanu\n",
            "Your Kaggle Key: ··········\n",
            "Dataset URL: https://www.kaggle.com/datasets/ahmadsaladin/mistral-7b-it-v02\n",
            "Downloading mistral-7b-it-v02.zip to ./mistral-7b-it-v02\n"
          ]
        },
        {
          "output_type": "stream",
          "name": "stderr",
          "text": [
            "100%|██████████| 21.7G/21.7G [19:11<00:00, 20.3MB/s]\n"
          ]
        },
        {
          "output_type": "stream",
          "name": "stdout",
          "text": [
            "\n"
          ]
        }
      ]
    },
    {
      "cell_type": "code",
      "source": [
        "import opendatasets as od\n",
        "od.download(\"https://www.kaggle.com/datasets/chaitanyakck/medical-text\")"
      ],
      "metadata": {
        "colab": {
          "base_uri": "https://localhost:8080/"
        },
        "id": "sM_opRIljNd1",
        "outputId": "a05b09a8-3570-4c15-db16-3bcfa6540fc7"
      },
      "execution_count": null,
      "outputs": [
        {
          "output_type": "stream",
          "name": "stdout",
          "text": [
            "Please provide your Kaggle credentials to download this dataset. Learn more: http://bit.ly/kaggle-creds\n",
            "Your Kaggle username: laviniaardeleanu\n",
            "Your Kaggle Key: ··········\n",
            "Dataset URL: https://www.kaggle.com/datasets/chaitanyakck/medical-text\n",
            "Downloading medical-text.zip to ./medical-text\n"
          ]
        },
        {
          "output_type": "stream",
          "name": "stderr",
          "text": [
            "100%|██████████| 11.6M/11.6M [00:01<00:00, 7.39MB/s]\n"
          ]
        },
        {
          "output_type": "stream",
          "name": "stdout",
          "text": [
            "\n"
          ]
        }
      ]
    },
    {
      "cell_type": "code",
      "source": [
        "import opendatasets as od\n",
        "od.download(\"https://www.kaggle.com/datasets/chaitanyakck/medical-text\")"
      ],
      "metadata": {
        "colab": {
          "base_uri": "https://localhost:8080/"
        },
        "id": "BsN-Qy4CxemB",
        "outputId": "4e3fd71f-3aa7-47d4-d91d-e82c84e582f5"
      },
      "execution_count": null,
      "outputs": [
        {
          "output_type": "stream",
          "name": "stdout",
          "text": [
            "Skipping, found downloaded files in \"./medical-text\" (use force=True to force download)\n"
          ]
        }
      ]
    },
    {
      "cell_type": "code",
      "source": [
        "import kagglehub\n",
        "\n",
        "# Download latest version\n",
        "path = kagglehub.dataset_download(\"chaitanyakck/medical-text\")\n",
        "\n",
        "print(\"Path to dataset files:\", path)"
      ],
      "metadata": {
        "colab": {
          "base_uri": "https://localhost:8080/"
        },
        "id": "BfkwYaotrvWo",
        "outputId": "0bb4e3a4-39a6-4f86-8dff-aa6b97968125"
      },
      "execution_count": null,
      "outputs": [
        {
          "output_type": "stream",
          "name": "stdout",
          "text": [
            "Downloading from https://www.kaggle.com/api/v1/datasets/download/chaitanyakck/medical-text?dataset_version_number=1...\n"
          ]
        },
        {
          "output_type": "stream",
          "name": "stderr",
          "text": [
            "100%|██████████| 11.6M/11.6M [00:01<00:00, 7.56MB/s]"
          ]
        },
        {
          "output_type": "stream",
          "name": "stdout",
          "text": [
            "Extracting files...\n"
          ]
        },
        {
          "output_type": "stream",
          "name": "stderr",
          "text": [
            "\n"
          ]
        },
        {
          "output_type": "stream",
          "name": "stdout",
          "text": [
            "Path to dataset files: /root/.cache/kagglehub/datasets/chaitanyakck/medical-text/versions/1\n"
          ]
        }
      ]
    },
    {
      "cell_type": "code",
      "source": [
        "!pip install datasets"
      ],
      "metadata": {
        "colab": {
          "base_uri": "https://localhost:8080/"
        },
        "id": "45sLiZAzsLd2",
        "outputId": "75a71d64-2ed7-4145-fb9a-9787f7104ab2"
      },
      "execution_count": null,
      "outputs": [
        {
          "output_type": "stream",
          "name": "stdout",
          "text": [
            "Collecting datasets\n",
            "  Downloading datasets-3.3.2-py3-none-any.whl.metadata (19 kB)\n",
            "Requirement already satisfied: filelock in /usr/local/lib/python3.11/dist-packages (from datasets) (3.17.0)\n",
            "Requirement already satisfied: numpy>=1.17 in /usr/local/lib/python3.11/dist-packages (from datasets) (1.26.4)\n",
            "Requirement already satisfied: pyarrow>=15.0.0 in /usr/local/lib/python3.11/dist-packages (from datasets) (18.1.0)\n",
            "Collecting dill<0.3.9,>=0.3.0 (from datasets)\n",
            "  Downloading dill-0.3.8-py3-none-any.whl.metadata (10 kB)\n",
            "Requirement already satisfied: pandas in /usr/local/lib/python3.11/dist-packages (from datasets) (2.2.2)\n",
            "Requirement already satisfied: requests>=2.32.2 in /usr/local/lib/python3.11/dist-packages (from datasets) (2.32.3)\n",
            "Requirement already satisfied: tqdm>=4.66.3 in /usr/local/lib/python3.11/dist-packages (from datasets) (4.67.1)\n",
            "Collecting xxhash (from datasets)\n",
            "  Downloading xxhash-3.5.0-cp311-cp311-manylinux_2_17_x86_64.manylinux2014_x86_64.whl.metadata (12 kB)\n",
            "Collecting multiprocess<0.70.17 (from datasets)\n",
            "  Downloading multiprocess-0.70.16-py311-none-any.whl.metadata (7.2 kB)\n",
            "Requirement already satisfied: fsspec<=2024.12.0,>=2023.1.0 in /usr/local/lib/python3.11/dist-packages (from fsspec[http]<=2024.12.0,>=2023.1.0->datasets) (2024.10.0)\n",
            "Requirement already satisfied: aiohttp in /usr/local/lib/python3.11/dist-packages (from datasets) (3.11.13)\n",
            "Requirement already satisfied: huggingface-hub>=0.24.0 in /usr/local/lib/python3.11/dist-packages (from datasets) (0.28.1)\n",
            "Requirement already satisfied: packaging in /usr/local/lib/python3.11/dist-packages (from datasets) (24.2)\n",
            "Requirement already satisfied: pyyaml>=5.1 in /usr/local/lib/python3.11/dist-packages (from datasets) (6.0.2)\n",
            "Requirement already satisfied: aiohappyeyeballs>=2.3.0 in /usr/local/lib/python3.11/dist-packages (from aiohttp->datasets) (2.4.6)\n",
            "Requirement already satisfied: aiosignal>=1.1.2 in /usr/local/lib/python3.11/dist-packages (from aiohttp->datasets) (1.3.2)\n",
            "Requirement already satisfied: attrs>=17.3.0 in /usr/local/lib/python3.11/dist-packages (from aiohttp->datasets) (25.1.0)\n",
            "Requirement already satisfied: frozenlist>=1.1.1 in /usr/local/lib/python3.11/dist-packages (from aiohttp->datasets) (1.5.0)\n",
            "Requirement already satisfied: multidict<7.0,>=4.5 in /usr/local/lib/python3.11/dist-packages (from aiohttp->datasets) (6.1.0)\n",
            "Requirement already satisfied: propcache>=0.2.0 in /usr/local/lib/python3.11/dist-packages (from aiohttp->datasets) (0.3.0)\n",
            "Requirement already satisfied: yarl<2.0,>=1.17.0 in /usr/local/lib/python3.11/dist-packages (from aiohttp->datasets) (1.18.3)\n",
            "Requirement already satisfied: typing-extensions>=3.7.4.3 in /usr/local/lib/python3.11/dist-packages (from huggingface-hub>=0.24.0->datasets) (4.12.2)\n",
            "Requirement already satisfied: charset-normalizer<4,>=2 in /usr/local/lib/python3.11/dist-packages (from requests>=2.32.2->datasets) (3.4.1)\n",
            "Requirement already satisfied: idna<4,>=2.5 in /usr/local/lib/python3.11/dist-packages (from requests>=2.32.2->datasets) (3.10)\n",
            "Requirement already satisfied: urllib3<3,>=1.21.1 in /usr/local/lib/python3.11/dist-packages (from requests>=2.32.2->datasets) (2.3.0)\n",
            "Requirement already satisfied: certifi>=2017.4.17 in /usr/local/lib/python3.11/dist-packages (from requests>=2.32.2->datasets) (2025.1.31)\n",
            "Requirement already satisfied: python-dateutil>=2.8.2 in /usr/local/lib/python3.11/dist-packages (from pandas->datasets) (2.8.2)\n",
            "Requirement already satisfied: pytz>=2020.1 in /usr/local/lib/python3.11/dist-packages (from pandas->datasets) (2025.1)\n",
            "Requirement already satisfied: tzdata>=2022.7 in /usr/local/lib/python3.11/dist-packages (from pandas->datasets) (2025.1)\n",
            "Requirement already satisfied: six>=1.5 in /usr/local/lib/python3.11/dist-packages (from python-dateutil>=2.8.2->pandas->datasets) (1.17.0)\n",
            "Downloading datasets-3.3.2-py3-none-any.whl (485 kB)\n",
            "\u001b[2K   \u001b[90m━━━━━━━━━━━━━━━━━━━━━━━━━━━━━━━━━━━━━━━━\u001b[0m \u001b[32m485.4/485.4 kB\u001b[0m \u001b[31m25.3 MB/s\u001b[0m eta \u001b[36m0:00:00\u001b[0m\n",
            "\u001b[?25hDownloading dill-0.3.8-py3-none-any.whl (116 kB)\n",
            "\u001b[2K   \u001b[90m━━━━━━━━━━━━━━━━━━━━━━━━━━━━━━━━━━━━━━━━\u001b[0m \u001b[32m116.3/116.3 kB\u001b[0m \u001b[31m8.2 MB/s\u001b[0m eta \u001b[36m0:00:00\u001b[0m\n",
            "\u001b[?25hDownloading multiprocess-0.70.16-py311-none-any.whl (143 kB)\n",
            "\u001b[2K   \u001b[90m━━━━━━━━━━━━━━━━━━━━━━━━━━━━━━━━━━━━━━━━\u001b[0m \u001b[32m143.5/143.5 kB\u001b[0m \u001b[31m11.6 MB/s\u001b[0m eta \u001b[36m0:00:00\u001b[0m\n",
            "\u001b[?25hDownloading xxhash-3.5.0-cp311-cp311-manylinux_2_17_x86_64.manylinux2014_x86_64.whl (194 kB)\n",
            "\u001b[2K   \u001b[90m━━━━━━━━━━━━━━━━━━━━━━━━━━━━━━━━━━━━━━━━\u001b[0m \u001b[32m194.8/194.8 kB\u001b[0m \u001b[31m12.8 MB/s\u001b[0m eta \u001b[36m0:00:00\u001b[0m\n",
            "\u001b[?25hInstalling collected packages: xxhash, dill, multiprocess, datasets\n",
            "Successfully installed datasets-3.3.2 dill-0.3.8 multiprocess-0.70.16 xxhash-3.5.0\n"
          ]
        }
      ]
    },
    {
      "cell_type": "code",
      "source": [
        "import os\n",
        "os.environ['CUDA_IS_VISIBLE'] ='0'\n",
        "import sys\n",
        "import gc\n",
        "import re\n",
        "import ctypes\n",
        "import random\n",
        "from tqdm import tqdm\n",
        "\n",
        "import numpy as np, pandas as pd\n",
        "import matplotlib.pyplot as plt\n",
        "import seaborn as sns\n",
        "\n",
        "from sklearn.model_selection import KFold, StratifiedKFold, GroupKFold\n",
        "\n",
        "import torch\n",
        "import torch.nn as nn\n",
        "\n",
        "from transformers import AutoTokenizer, AutoConfig, AutoModelForCausalLM\n",
        "from transformers import Trainer, TrainingArguments\n",
        "from datasets import Dataset\n",
        "\n",
        "import warnings\n",
        "warnings.filterwarnings('ignore')"
      ],
      "metadata": {
        "id": "dXKRAPkjr0w2"
      },
      "execution_count": null,
      "outputs": []
    },
    {
      "cell_type": "code",
      "source": [
        "class CFG:\n",
        "    SEED = 2024\n",
        "    VER = 1\n",
        "    INFERENCE = None\n",
        "    BASE_PATH = '/content/medical-text'\n",
        "    PRESET = '/content/mistral-7b-it-v02'\n",
        "    MAX_LEN = 512\n",
        "    TRAIN_BATCH = 2\n",
        "    EVAL_BATCH = 4\n",
        "    EPOCHS = 1"
      ],
      "metadata": {
        "id": "z9cQ7U14sQvc"
      },
      "execution_count": null,
      "outputs": []
    },
    {
      "cell_type": "code",
      "source": [
        "# To make similar values for each run\n",
        "def seed_everything():\n",
        "    random.seed(CFG.SEED)\n",
        "    os.environ['PYTHONHASHSEED'] = str(CFG.SEED)\n",
        "    np.random.seed(CFG.SEED)\n",
        "    torch.manual_seed(CFG.SEED)\n",
        "    torch.cuda.manual_seed(CFG.SEED)\n",
        "    torch.backends.cudnn.deterministic = True\n",
        "    torch.backends.cudnn.benchmark = True\n",
        "\n",
        "seed_everything()"
      ],
      "metadata": {
        "id": "fwS_KlmbsXfg"
      },
      "execution_count": null,
      "outputs": []
    },
    {
      "cell_type": "code",
      "source": [
        "def clean_memory():\n",
        "    ctypes.CDLL('libc.so.6').malloc_trim(0)\n",
        "    gc.collect()\n",
        "\n",
        "clean_memory()"
      ],
      "metadata": {
        "id": "FvMxWE4AsaC6"
      },
      "execution_count": null,
      "outputs": []
    },
    {
      "cell_type": "code",
      "source": [
        "df_train = pd.read_csv(os.path.join(CFG.BASE_PATH, 'train.dat'), sep='\\t', header=None) # Used os.path.join to create the correct file path\n",
        "\n",
        "df_train.rename(columns = {0: 'conditions', 1: 'full_text'}, inplace=True)\n",
        "df_train = df_train[df_train['conditions'] != 5]"
      ],
      "metadata": {
        "id": "6EqU0HGoscCv"
      },
      "execution_count": null,
      "outputs": []
    },
    {
      "cell_type": "code",
      "source": [
        "def make_essay_id(row):\n",
        "    return f'000{row}'\n",
        "\n",
        "df_train['essay_id'] = df_train.index.map(lambda x: make_essay_id(x))\n"
      ],
      "metadata": {
        "id": "nW3g_uu6syd2"
      },
      "execution_count": null,
      "outputs": []
    },
    {
      "cell_type": "code",
      "source": [
        "print(f'Shape of Dataframe: {df_train.shape}')\n",
        "print(display(df_train))"
      ],
      "metadata": {
        "colab": {
          "base_uri": "https://localhost:8080/",
          "height": 458
        },
        "id": "U366pcZBs3vl",
        "outputId": "cd5ea395-6cab-4ccd-c46d-5200f6e29879"
      },
      "execution_count": null,
      "outputs": [
        {
          "output_type": "stream",
          "name": "stdout",
          "text": [
            "Shape of Dataframe: (9633, 3)\n"
          ]
        },
        {
          "output_type": "display_data",
          "data": {
            "text/plain": [
              "       conditions                                          full_text  essay_id\n",
              "0               4  Catheterization laboratory events and hospital...      0000\n",
              "2               2  Hyperplastic polyps seen at sigmoidoscopy are ...      0002\n",
              "4               4  Effect of local inhibition of gamma-aminobutyr...      0004\n",
              "5               1  Infection during chronic epidural catheterizat...      0005\n",
              "8               3  Multiple representations contribute to body kn...      0008\n",
              "...           ...                                                ...       ...\n",
              "14433           4  Quadricuspid aortic valve and aortic regurgita...  00014433\n",
              "14434           1  Mammographic measurements before and after aug...  00014434\n",
              "14435           1  Use of leukocyte-depleted platelet concentrate...  00014435\n",
              "14436           2  Complications of Tenckhoff catheters post remo...  00014436\n",
              "14437           3  Fatal or severely disabling cerebral infarctio...  00014437\n",
              "\n",
              "[9633 rows x 3 columns]"
            ],
            "text/html": [
              "\n",
              "  <div id=\"df-96eb1ecb-6986-4a52-850b-08902aa4f50a\" class=\"colab-df-container\">\n",
              "    <div>\n",
              "<style scoped>\n",
              "    .dataframe tbody tr th:only-of-type {\n",
              "        vertical-align: middle;\n",
              "    }\n",
              "\n",
              "    .dataframe tbody tr th {\n",
              "        vertical-align: top;\n",
              "    }\n",
              "\n",
              "    .dataframe thead th {\n",
              "        text-align: right;\n",
              "    }\n",
              "</style>\n",
              "<table border=\"1\" class=\"dataframe\">\n",
              "  <thead>\n",
              "    <tr style=\"text-align: right;\">\n",
              "      <th></th>\n",
              "      <th>conditions</th>\n",
              "      <th>full_text</th>\n",
              "      <th>essay_id</th>\n",
              "    </tr>\n",
              "  </thead>\n",
              "  <tbody>\n",
              "    <tr>\n",
              "      <th>0</th>\n",
              "      <td>4</td>\n",
              "      <td>Catheterization laboratory events and hospital...</td>\n",
              "      <td>0000</td>\n",
              "    </tr>\n",
              "    <tr>\n",
              "      <th>2</th>\n",
              "      <td>2</td>\n",
              "      <td>Hyperplastic polyps seen at sigmoidoscopy are ...</td>\n",
              "      <td>0002</td>\n",
              "    </tr>\n",
              "    <tr>\n",
              "      <th>4</th>\n",
              "      <td>4</td>\n",
              "      <td>Effect of local inhibition of gamma-aminobutyr...</td>\n",
              "      <td>0004</td>\n",
              "    </tr>\n",
              "    <tr>\n",
              "      <th>5</th>\n",
              "      <td>1</td>\n",
              "      <td>Infection during chronic epidural catheterizat...</td>\n",
              "      <td>0005</td>\n",
              "    </tr>\n",
              "    <tr>\n",
              "      <th>8</th>\n",
              "      <td>3</td>\n",
              "      <td>Multiple representations contribute to body kn...</td>\n",
              "      <td>0008</td>\n",
              "    </tr>\n",
              "    <tr>\n",
              "      <th>...</th>\n",
              "      <td>...</td>\n",
              "      <td>...</td>\n",
              "      <td>...</td>\n",
              "    </tr>\n",
              "    <tr>\n",
              "      <th>14433</th>\n",
              "      <td>4</td>\n",
              "      <td>Quadricuspid aortic valve and aortic regurgita...</td>\n",
              "      <td>00014433</td>\n",
              "    </tr>\n",
              "    <tr>\n",
              "      <th>14434</th>\n",
              "      <td>1</td>\n",
              "      <td>Mammographic measurements before and after aug...</td>\n",
              "      <td>00014434</td>\n",
              "    </tr>\n",
              "    <tr>\n",
              "      <th>14435</th>\n",
              "      <td>1</td>\n",
              "      <td>Use of leukocyte-depleted platelet concentrate...</td>\n",
              "      <td>00014435</td>\n",
              "    </tr>\n",
              "    <tr>\n",
              "      <th>14436</th>\n",
              "      <td>2</td>\n",
              "      <td>Complications of Tenckhoff catheters post remo...</td>\n",
              "      <td>00014436</td>\n",
              "    </tr>\n",
              "    <tr>\n",
              "      <th>14437</th>\n",
              "      <td>3</td>\n",
              "      <td>Fatal or severely disabling cerebral infarctio...</td>\n",
              "      <td>00014437</td>\n",
              "    </tr>\n",
              "  </tbody>\n",
              "</table>\n",
              "<p>9633 rows × 3 columns</p>\n",
              "</div>\n",
              "    <div class=\"colab-df-buttons\">\n",
              "\n",
              "  <div class=\"colab-df-container\">\n",
              "    <button class=\"colab-df-convert\" onclick=\"convertToInteractive('df-96eb1ecb-6986-4a52-850b-08902aa4f50a')\"\n",
              "            title=\"Convert this dataframe to an interactive table.\"\n",
              "            style=\"display:none;\">\n",
              "\n",
              "  <svg xmlns=\"http://www.w3.org/2000/svg\" height=\"24px\" viewBox=\"0 -960 960 960\">\n",
              "    <path d=\"M120-120v-720h720v720H120Zm60-500h600v-160H180v160Zm220 220h160v-160H400v160Zm0 220h160v-160H400v160ZM180-400h160v-160H180v160Zm440 0h160v-160H620v160ZM180-180h160v-160H180v160Zm440 0h160v-160H620v160Z\"/>\n",
              "  </svg>\n",
              "    </button>\n",
              "\n",
              "  <style>\n",
              "    .colab-df-container {\n",
              "      display:flex;\n",
              "      gap: 12px;\n",
              "    }\n",
              "\n",
              "    .colab-df-convert {\n",
              "      background-color: #E8F0FE;\n",
              "      border: none;\n",
              "      border-radius: 50%;\n",
              "      cursor: pointer;\n",
              "      display: none;\n",
              "      fill: #1967D2;\n",
              "      height: 32px;\n",
              "      padding: 0 0 0 0;\n",
              "      width: 32px;\n",
              "    }\n",
              "\n",
              "    .colab-df-convert:hover {\n",
              "      background-color: #E2EBFA;\n",
              "      box-shadow: 0px 1px 2px rgba(60, 64, 67, 0.3), 0px 1px 3px 1px rgba(60, 64, 67, 0.15);\n",
              "      fill: #174EA6;\n",
              "    }\n",
              "\n",
              "    .colab-df-buttons div {\n",
              "      margin-bottom: 4px;\n",
              "    }\n",
              "\n",
              "    [theme=dark] .colab-df-convert {\n",
              "      background-color: #3B4455;\n",
              "      fill: #D2E3FC;\n",
              "    }\n",
              "\n",
              "    [theme=dark] .colab-df-convert:hover {\n",
              "      background-color: #434B5C;\n",
              "      box-shadow: 0px 1px 3px 1px rgba(0, 0, 0, 0.15);\n",
              "      filter: drop-shadow(0px 1px 2px rgba(0, 0, 0, 0.3));\n",
              "      fill: #FFFFFF;\n",
              "    }\n",
              "  </style>\n",
              "\n",
              "    <script>\n",
              "      const buttonEl =\n",
              "        document.querySelector('#df-96eb1ecb-6986-4a52-850b-08902aa4f50a button.colab-df-convert');\n",
              "      buttonEl.style.display =\n",
              "        google.colab.kernel.accessAllowed ? 'block' : 'none';\n",
              "\n",
              "      async function convertToInteractive(key) {\n",
              "        const element = document.querySelector('#df-96eb1ecb-6986-4a52-850b-08902aa4f50a');\n",
              "        const dataTable =\n",
              "          await google.colab.kernel.invokeFunction('convertToInteractive',\n",
              "                                                    [key], {});\n",
              "        if (!dataTable) return;\n",
              "\n",
              "        const docLinkHtml = 'Like what you see? Visit the ' +\n",
              "          '<a target=\"_blank\" href=https://colab.research.google.com/notebooks/data_table.ipynb>data table notebook</a>'\n",
              "          + ' to learn more about interactive tables.';\n",
              "        element.innerHTML = '';\n",
              "        dataTable['output_type'] = 'display_data';\n",
              "        await google.colab.output.renderOutput(dataTable, element);\n",
              "        const docLink = document.createElement('div');\n",
              "        docLink.innerHTML = docLinkHtml;\n",
              "        element.appendChild(docLink);\n",
              "      }\n",
              "    </script>\n",
              "  </div>\n",
              "\n",
              "\n",
              "<div id=\"df-6775e998-8beb-467a-957d-3a4f0b37564b\">\n",
              "  <button class=\"colab-df-quickchart\" onclick=\"quickchart('df-6775e998-8beb-467a-957d-3a4f0b37564b')\"\n",
              "            title=\"Suggest charts\"\n",
              "            style=\"display:none;\">\n",
              "\n",
              "<svg xmlns=\"http://www.w3.org/2000/svg\" height=\"24px\"viewBox=\"0 0 24 24\"\n",
              "     width=\"24px\">\n",
              "    <g>\n",
              "        <path d=\"M19 3H5c-1.1 0-2 .9-2 2v14c0 1.1.9 2 2 2h14c1.1 0 2-.9 2-2V5c0-1.1-.9-2-2-2zM9 17H7v-7h2v7zm4 0h-2V7h2v10zm4 0h-2v-4h2v4z\"/>\n",
              "    </g>\n",
              "</svg>\n",
              "  </button>\n",
              "\n",
              "<style>\n",
              "  .colab-df-quickchart {\n",
              "      --bg-color: #E8F0FE;\n",
              "      --fill-color: #1967D2;\n",
              "      --hover-bg-color: #E2EBFA;\n",
              "      --hover-fill-color: #174EA6;\n",
              "      --disabled-fill-color: #AAA;\n",
              "      --disabled-bg-color: #DDD;\n",
              "  }\n",
              "\n",
              "  [theme=dark] .colab-df-quickchart {\n",
              "      --bg-color: #3B4455;\n",
              "      --fill-color: #D2E3FC;\n",
              "      --hover-bg-color: #434B5C;\n",
              "      --hover-fill-color: #FFFFFF;\n",
              "      --disabled-bg-color: #3B4455;\n",
              "      --disabled-fill-color: #666;\n",
              "  }\n",
              "\n",
              "  .colab-df-quickchart {\n",
              "    background-color: var(--bg-color);\n",
              "    border: none;\n",
              "    border-radius: 50%;\n",
              "    cursor: pointer;\n",
              "    display: none;\n",
              "    fill: var(--fill-color);\n",
              "    height: 32px;\n",
              "    padding: 0;\n",
              "    width: 32px;\n",
              "  }\n",
              "\n",
              "  .colab-df-quickchart:hover {\n",
              "    background-color: var(--hover-bg-color);\n",
              "    box-shadow: 0 1px 2px rgba(60, 64, 67, 0.3), 0 1px 3px 1px rgba(60, 64, 67, 0.15);\n",
              "    fill: var(--button-hover-fill-color);\n",
              "  }\n",
              "\n",
              "  .colab-df-quickchart-complete:disabled,\n",
              "  .colab-df-quickchart-complete:disabled:hover {\n",
              "    background-color: var(--disabled-bg-color);\n",
              "    fill: var(--disabled-fill-color);\n",
              "    box-shadow: none;\n",
              "  }\n",
              "\n",
              "  .colab-df-spinner {\n",
              "    border: 2px solid var(--fill-color);\n",
              "    border-color: transparent;\n",
              "    border-bottom-color: var(--fill-color);\n",
              "    animation:\n",
              "      spin 1s steps(1) infinite;\n",
              "  }\n",
              "\n",
              "  @keyframes spin {\n",
              "    0% {\n",
              "      border-color: transparent;\n",
              "      border-bottom-color: var(--fill-color);\n",
              "      border-left-color: var(--fill-color);\n",
              "    }\n",
              "    20% {\n",
              "      border-color: transparent;\n",
              "      border-left-color: var(--fill-color);\n",
              "      border-top-color: var(--fill-color);\n",
              "    }\n",
              "    30% {\n",
              "      border-color: transparent;\n",
              "      border-left-color: var(--fill-color);\n",
              "      border-top-color: var(--fill-color);\n",
              "      border-right-color: var(--fill-color);\n",
              "    }\n",
              "    40% {\n",
              "      border-color: transparent;\n",
              "      border-right-color: var(--fill-color);\n",
              "      border-top-color: var(--fill-color);\n",
              "    }\n",
              "    60% {\n",
              "      border-color: transparent;\n",
              "      border-right-color: var(--fill-color);\n",
              "    }\n",
              "    80% {\n",
              "      border-color: transparent;\n",
              "      border-right-color: var(--fill-color);\n",
              "      border-bottom-color: var(--fill-color);\n",
              "    }\n",
              "    90% {\n",
              "      border-color: transparent;\n",
              "      border-bottom-color: var(--fill-color);\n",
              "    }\n",
              "  }\n",
              "</style>\n",
              "\n",
              "  <script>\n",
              "    async function quickchart(key) {\n",
              "      const quickchartButtonEl =\n",
              "        document.querySelector('#' + key + ' button');\n",
              "      quickchartButtonEl.disabled = true;  // To prevent multiple clicks.\n",
              "      quickchartButtonEl.classList.add('colab-df-spinner');\n",
              "      try {\n",
              "        const charts = await google.colab.kernel.invokeFunction(\n",
              "            'suggestCharts', [key], {});\n",
              "      } catch (error) {\n",
              "        console.error('Error during call to suggestCharts:', error);\n",
              "      }\n",
              "      quickchartButtonEl.classList.remove('colab-df-spinner');\n",
              "      quickchartButtonEl.classList.add('colab-df-quickchart-complete');\n",
              "    }\n",
              "    (() => {\n",
              "      let quickchartButtonEl =\n",
              "        document.querySelector('#df-6775e998-8beb-467a-957d-3a4f0b37564b button');\n",
              "      quickchartButtonEl.style.display =\n",
              "        google.colab.kernel.accessAllowed ? 'block' : 'none';\n",
              "    })();\n",
              "  </script>\n",
              "</div>\n",
              "\n",
              "  <div id=\"id_3d9aadaa-4228-4720-9273-82e272158574\">\n",
              "    <style>\n",
              "      .colab-df-generate {\n",
              "        background-color: #E8F0FE;\n",
              "        border: none;\n",
              "        border-radius: 50%;\n",
              "        cursor: pointer;\n",
              "        display: none;\n",
              "        fill: #1967D2;\n",
              "        height: 32px;\n",
              "        padding: 0 0 0 0;\n",
              "        width: 32px;\n",
              "      }\n",
              "\n",
              "      .colab-df-generate:hover {\n",
              "        background-color: #E2EBFA;\n",
              "        box-shadow: 0px 1px 2px rgba(60, 64, 67, 0.3), 0px 1px 3px 1px rgba(60, 64, 67, 0.15);\n",
              "        fill: #174EA6;\n",
              "      }\n",
              "\n",
              "      [theme=dark] .colab-df-generate {\n",
              "        background-color: #3B4455;\n",
              "        fill: #D2E3FC;\n",
              "      }\n",
              "\n",
              "      [theme=dark] .colab-df-generate:hover {\n",
              "        background-color: #434B5C;\n",
              "        box-shadow: 0px 1px 3px 1px rgba(0, 0, 0, 0.15);\n",
              "        filter: drop-shadow(0px 1px 2px rgba(0, 0, 0, 0.3));\n",
              "        fill: #FFFFFF;\n",
              "      }\n",
              "    </style>\n",
              "    <button class=\"colab-df-generate\" onclick=\"generateWithVariable('df_train')\"\n",
              "            title=\"Generate code using this dataframe.\"\n",
              "            style=\"display:none;\">\n",
              "\n",
              "  <svg xmlns=\"http://www.w3.org/2000/svg\" height=\"24px\"viewBox=\"0 0 24 24\"\n",
              "       width=\"24px\">\n",
              "    <path d=\"M7,19H8.4L18.45,9,17,7.55,7,17.6ZM5,21V16.75L18.45,3.32a2,2,0,0,1,2.83,0l1.4,1.43a1.91,1.91,0,0,1,.58,1.4,1.91,1.91,0,0,1-.58,1.4L9.25,21ZM18.45,9,17,7.55Zm-12,3A5.31,5.31,0,0,0,4.9,8.1,5.31,5.31,0,0,0,1,6.5,5.31,5.31,0,0,0,4.9,4.9,5.31,5.31,0,0,0,6.5,1,5.31,5.31,0,0,0,8.1,4.9,5.31,5.31,0,0,0,12,6.5,5.46,5.46,0,0,0,6.5,12Z\"/>\n",
              "  </svg>\n",
              "    </button>\n",
              "    <script>\n",
              "      (() => {\n",
              "      const buttonEl =\n",
              "        document.querySelector('#id_3d9aadaa-4228-4720-9273-82e272158574 button.colab-df-generate');\n",
              "      buttonEl.style.display =\n",
              "        google.colab.kernel.accessAllowed ? 'block' : 'none';\n",
              "\n",
              "      buttonEl.onclick = () => {\n",
              "        google.colab.notebook.generateWithVariable('df_train');\n",
              "      }\n",
              "      })();\n",
              "    </script>\n",
              "  </div>\n",
              "\n",
              "    </div>\n",
              "  </div>\n"
            ],
            "application/vnd.google.colaboratory.intrinsic+json": {
              "type": "dataframe",
              "variable_name": "df_train",
              "summary": "{\n  \"name\": \"df_train\",\n  \"rows\": 9633,\n  \"fields\": [\n    {\n      \"column\": \"conditions\",\n      \"properties\": {\n        \"dtype\": \"number\",\n        \"std\": 1,\n        \"min\": 1,\n        \"max\": 4,\n        \"num_unique_values\": 4,\n        \"samples\": [\n          2,\n          3,\n          4\n        ],\n        \"semantic_type\": \"\",\n        \"description\": \"\"\n      }\n    },\n    {\n      \"column\": \"full_text\",\n      \"properties\": {\n        \"dtype\": \"string\",\n        \"num_unique_values\": 8833,\n        \"samples\": [\n          \"Bladder function in the mentally retarded. A group of 21 mentally retarded patients with severe, long-standing urinary symptoms underwent urodynamical investigation. The most common abnormalities were detrusor areflexia and detrusor hyper-reflexia. Of 11 patients treated surgically, 10 derived marked benefit. Drugs were successful in reducing micturition problems in 3/6 patients. Severely retarded patients with spastic quadriplegia are difficult to investigate and if this is associated with detrusor hyper-reflexia it is impossible to treat them in any way. Severely retarded patients with detrusor areflexia and infrequent voiding can benefit from bladder outlet surgery. Patients with moderate (especially mild) retardation can be investigated and treated in the same way as non-retarded people. \",\n          \"Effect of maintenance digoxin therapy on aerobic performance and exercise left ventricular function in mild to moderate heart failure due to coronary artery disease: a randomized, placebo-controlled, crossover trial. Despite 200 years of use, the ability of digitalis glycosides to improve exercise capacity in patients with congestive heart failure remains controversial, partly because of imprecise end points and suboptimal study design. Therefore, this question was examined in 10 ambulatory patients (8 men and 2 women) aged 46 to 70 years (mean 57.8) in sinus rhythm with mild to moderate chronic stable congestive heart failure due to coronary artery disease and systolic left ventricular dysfunction (ejection fraction 32 +/- 12). All underwent maximal treadmill exercise with respiratory gas analysis and upright cycle ergometry with gated radionuclide angiography after 4 weeks of digoxin or placebo therapy, administered in a randomized double-blind crossover protocol. Neither treadmill exercise duration (7.7 +/- 2.3 versus 7.3 +/- 2.7 min) nor peak oxygen consumption (18.7 +/- 3.7 versus 18.4 +/- 5.4 ml/kg per min) differed between digoxin and placebo regimens. However, the change in peak oxygen consumption induced by digoxin was inversely related to the peak oxygen consumption during placebo therapy (r = -0.64, p less than 0.05). At maximal treadmill effort, heart rate (138 +/- 16 versus 141 +/- 21 beats/min), oxygen pulse (10.3 +/- 2.1 versus 9.9 +/- 2.2 ml/beat), ventilation (40.3 +/- 10.6 versus 42.0 +/- 10.8 liters/min) and ventilatory equivalent (29.4 +/- 4.8 versus 31.5 +/- 6.8) did not differ between digoxin and placebo treatment, although systolic blood pressure was higher during digoxin therapy (163.0 +/- 23.1 versus 153.2 +/- 25.3 mm Hg, p less than 0.05). \",\n          \"Experimental intravesical therapy for superficial transitional cell carcinoma in a rat bladder tumor model. A rodent bladder cancer model that is induced by intravesical instillation of N-methyl-N-nitrosourea (MNU) was characterized. Cohorts of four to five week old female Fisher 344 rats received four biweekly 1.5 mg. doses of intravesical MNU and were sacrificed at various intervals. By week 13 all animals had flat atypia and/or papillary transitional cell tumors, and 67% of the lesions were moderately (grade II) or poorly differentiated (grade III). By week 20, 83% had gross muscle invasive tumors that eventually killed the host. A cohort of 40 MNU treated animals was subsequently treated commencing at week 17 after initiation of MNU with one of three intravesical six week regimens: 1) saline; 2) BCG (Tice strain); or 3) recombinant human tumor necrosis factor (RTNF) plus adriamycin. There was no difference in animal survival or tumor growth in any group of animals commencing therapy at week 17. A second cohort of 107 animals commenced therapy at 13 weeks after initiation of MNU with one of five intravesical six week regimens: 1) intravesical BCG (Tice strain); 2) adriamycin; 3) recombinant human tumor necrosis factor (RTNF); 4) RTNF plus adriamycin; or 5) BCG plus adriamycin. BCG, RTNF or adriamycin alone had no effect on tumor growth; however, BCG plus adriamycin and RTNF plus adriamycin commencing at week 13 significantly inhibited tumor growth and progression. In conclusion, this autochthonous intravesical rodent transitional cell carcinoma model appears useful for the following reasons: 1) it closely resembles human transitional cell carcinoma histologically and biologically in that all animals develop neoplastic changes in-situ that progress to muscle invasion and kill the host; 2) as with human bladder cancer these tumors do not respond to intravesical therapy if treated when tumor burden is large; however, tumor growth is inhibited when treated early; and 3) this model appears appropriate for screening and developing new intravesical treatments for superficial bladder cancer. \"\n        ],\n        \"semantic_type\": \"\",\n        \"description\": \"\"\n      }\n    },\n    {\n      \"column\": \"essay_id\",\n      \"properties\": {\n        \"dtype\": \"string\",\n        \"num_unique_values\": 9633,\n        \"samples\": [\n          \"00011310\",\n          \"0008383\",\n          \"0007508\"\n        ],\n        \"semantic_type\": \"\",\n        \"description\": \"\"\n      }\n    }\n  ]\n}"
            }
          },
          "metadata": {}
        },
        {
          "output_type": "stream",
          "name": "stdout",
          "text": [
            "None\n"
          ]
        }
      ]
    },
    {
      "cell_type": "code",
      "source": [
        "df_train = df_train.sample(3000, random_state=CFG.SEED)\n",
        "df_train.reset_index(drop=True, inplace=True)"
      ],
      "metadata": {
        "id": "r3GQkC-Ss5DK"
      },
      "execution_count": null,
      "outputs": []
    },
    {
      "cell_type": "code",
      "source": [
        "plt.figure(figsize=(12,6))\n",
        "sns.countplot(x=df_train['conditions'])\n",
        "plt.show()"
      ],
      "metadata": {
        "colab": {
          "base_uri": "https://localhost:8080/",
          "height": 461
        },
        "id": "6YyFZSBes8b8",
        "outputId": "af51acc4-24e0-4c9c-d995-3dc08f57135e"
      },
      "execution_count": null,
      "outputs": [
        {
          "output_type": "display_data",
          "data": {
            "text/plain": [
              "<Figure size 1200x600 with 1 Axes>"
            ],
            "image/png": "[encoded data removed]"
          },
          "metadata": {}
        }
      ]
    },
    {
      "cell_type": "code",
      "source": [
        "# model_name: '/kaggle/input/mistral-7b-it-v02'\n",
        "\n",
        "model = AutoModelForCausalLM.from_pretrained(\n",
        "    CFG.PRESET,\n",
        "    device_map = 'auto',\n",
        "    trust_remote_code=True,\n",
        ")"
      ],
      "metadata": {
        "colab": {
          "base_uri": "https://localhost:8080/",
          "height": 49,
          "referenced_widgets": [
            "7114b62a8e83483f89cd493ec707e286",
            "5ef39b92eba84cfcb5813d18a9ba90de",
            "85a4d85ca62a46f6a249c6e0a5a2c697",
            "a9eaa7c7d5bd407e8e272d485bde9880",
            "9b4adbb6f5ec4356b517203eeccd67b3",
            "cb96bd5884f34b9298b7703957301817",
            "eddc2b10532941deaecce21a52d12eaf",
            "2cea3d9c9f5f4a21963bd4fdaeb9ba36",
            "50a7d87f92ed4458941d7848cc9907a6",
            "7754975a0fb14172a113199d0a26d0d5",
            "06966a93d387431486a4a5cb079a38f9"
          ]
        },
        "id": "5zWZxUHn462A",
        "outputId": "f7de05ca-ccfd-4220-ab37-24c5c8bb0a41"
      },
      "execution_count": null,
      "outputs": [
        {
          "output_type": "display_data",
          "data": {
            "text/plain": [
              "Loading checkpoint shards:   0%|          | 0/3 [00:00<?, ?it/s]"
            ],
            "application/vnd.jupyter.widget-view+json": {
              "version_major": 2,
              "version_minor": 0,
              "model_id": "7114b62a8e83483f89cd493ec707e286"
            }
          },
          "metadata": {}
        }
      ]
    },
    {
      "cell_type": "code",
      "source": [
        "tokenizer = AutoTokenizer.from_pretrained(CFG.PRESET, padding_side='right')\n",
        "tokenizer.pad_token = tokenizer.eos_token"
      ],
      "metadata": {
        "id": "YLA8DB59yKJZ"
      },
      "execution_count": null,
      "outputs": []
    },
    {
      "cell_type": "code",
      "source": [
        "tokenizer"
      ],
      "metadata": {
        "colab": {
          "base_uri": "https://localhost:8080/"
        },
        "id": "JGQRx1_mzMPx",
        "outputId": "9df8e04f-2cfc-4ced-f06c-c32fc105e464"
      },
      "execution_count": null,
      "outputs": [
        {
          "output_type": "execute_result",
          "data": {
            "text/plain": [
              "LlamaTokenizerFast(name_or_path='/content/mistral-7b-it-v02', vocab_size=32000, model_max_length=1000000000000000019884624838656, is_fast=True, padding_side='right', truncation_side='right', special_tokens={'bos_token': '<s>', 'eos_token': '</s>', 'unk_token': '<unk>', 'pad_token': '</s>'}, clean_up_tokenization_spaces=False, added_tokens_decoder={\n",
              "\t0: AddedToken(\"<unk>\", rstrip=False, lstrip=False, single_word=False, normalized=False, special=True),\n",
              "\t1: AddedToken(\"<s>\", rstrip=False, lstrip=False, single_word=False, normalized=False, special=True),\n",
              "\t2: AddedToken(\"</s>\", rstrip=False, lstrip=False, single_word=False, normalized=False, special=True),\n",
              "}\n",
              ")"
            ]
          },
          "metadata": {},
          "execution_count": 18
        }
      ]
    },
    {
      "cell_type": "code",
      "source": [
        "dataset = Dataset.from_pandas(df_train)"
      ],
      "metadata": {
        "id": "TYVwGPQ-zQIZ"
      },
      "execution_count": null,
      "outputs": []
    },
    {
      "cell_type": "code",
      "source": [
        "def preprocess(sample, example=False):\n",
        "    sys_prompt = \"Please read the following essay and summarize it. Here are the conditions: 1. It must be written as a single sentence, 2. It must be recognized as a good summary by a doctor, 3. It must include the key keywords. Output is only a single sentence that satisfies the given conditions.\\n\\n\"\n",
        "\n",
        "    prompt = sample['full_text']\n",
        "    answer = \"\"\n",
        "\n",
        "    messages = [\n",
        "        {'role': 'user', 'content': sys_prompt + prompt},\n",
        "        {'role': 'assistant', 'content': f\"\\n\\nThe summarization is: \" +  answer}\n",
        "    ]\n",
        "    formatted_sample = tokenizer.apply_chat_template(messages, tokenize=False)\n",
        "\n",
        "    # In Infer mode, we don't need to make max_length\n",
        "    formatted_sample = formatted_sample.replace(\"</s>\",\"\")\n",
        "\n",
        "    tokenized_sample = tokenizer(formatted_sample, padding=True, return_tensors='pt',\n",
        "                                truncation=True, max_length=CFG.MAX_LEN)\n",
        "    if example: return formatted_sample\n",
        "    else: return tokenized_sample"
      ],
      "metadata": {
        "id": "J7B4ALPZzVSo"
      },
      "execution_count": null,
      "outputs": []
    },
    {
      "cell_type": "code",
      "source": [
        "print(preprocess(df_train.iloc[0], example=True))"
      ],
      "metadata": {
        "colab": {
          "base_uri": "https://localhost:8080/"
        },
        "id": "Eex3jIcuzWP2",
        "outputId": "14f7aad7-0fb2-4146-8126-a8ea294a25d0"
      },
      "execution_count": null,
      "outputs": [
        {
          "output_type": "stream",
          "name": "stdout",
          "text": [
            "<s>[INST] Please read the following essay and summarize it. Here are the conditions: 1. It must be written as a single sentence, 2. It must be recognized as a good summary by a doctor, 3. It must include the key keywords. Output is only a single sentence that satisfies the given conditions.\n",
            "\n",
            "Occlusive vasculopathy in systemic lupus erythematosus. Association with anticardiolipin antibody Patients with systemic lupus erythematosus and with antiphospholipid antibody are subject to sudden occlusion of multiple blood vessels. We describe two patients with systemic lupus erythematosus with acute, catastrophic, widespread non-inflammatory visceral vascular occlusions associated with high-titer antiphospholipid antibody. The histopathologic features clearly distinguished these patients from classic systemic lupus erythematosus vasculitis. We further suggest that, based on a probable pathogenesis related to the presence of antiphospholipid antibody, and based on the non-inflammatory vascular occlusion, steroids and other immunosuppressive medications are of limited value. Plasmapheresis along with anticoagulant therapy should be considered.  [/INST]\n",
            "\n",
            "The summarization is: \n"
          ]
        }
      ]
    },
    {
      "cell_type": "code",
      "source": [
        "print(preprocess(df_train.iloc[0], example=True))"
      ],
      "metadata": {
        "colab": {
          "base_uri": "https://localhost:8080/"
        },
        "id": "F0dDJ6PyzZyw",
        "outputId": "671999c6-676f-4244-eacd-4bed5d518537"
      },
      "execution_count": null,
      "outputs": [
        {
          "output_type": "stream",
          "name": "stdout",
          "text": [
            "<s>[INST] Please read the following essay and summarize it. Here are the conditions: 1. It must be written as a single sentence, 2. It must be recognized as a good summary by a doctor, 3. It must include the key keywords. Output is only a single sentence that satisfies the given conditions.\n",
            "\n",
            "Occlusive vasculopathy in systemic lupus erythematosus. Association with anticardiolipin antibody Patients with systemic lupus erythematosus and with antiphospholipid antibody are subject to sudden occlusion of multiple blood vessels. We describe two patients with systemic lupus erythematosus with acute, catastrophic, widespread non-inflammatory visceral vascular occlusions associated with high-titer antiphospholipid antibody. The histopathologic features clearly distinguished these patients from classic systemic lupus erythematosus vasculitis. We further suggest that, based on a probable pathogenesis related to the presence of antiphospholipid antibody, and based on the non-inflammatory vascular occlusion, steroids and other immunosuppressive medications are of limited value. Plasmapheresis along with anticoagulant therapy should be considered.  [/INST]\n",
            "\n",
            "The summarization is: \n"
          ]
        }
      ]
    },
    {
      "cell_type": "code",
      "source": [
        "# I'm gonna make medical text summarization\n",
        "# So we don't neet make max_new_tokens long\n",
        "# do sample = False makes result always different\n",
        "# If you don't like randomness, \"do sample = True\"\n",
        "\n",
        "for i , row in tqdm(df_train.iterrows(), total=len(df_train)):\n",
        "    tokenized_sample = preprocess(row)\n",
        "\n",
        "    # Move input tensors to the same device as the model\n",
        "    input_ids = tokenized_sample['input_ids'].to(model.device)\n",
        "\n",
        "    generated_ids = model.generate(input_ids, max_new_tokens=50, pad_token_id = tokenizer.eos_token_id,\n",
        "                                   do_sample=False)\n",
        "\n",
        "    decoded = tokenizer.batch_decode(generated_ids)\n",
        "    answer = decoded[0].rsplit(\"The summarization is: \", 1)[1]\n",
        "\n",
        "    print(answer)\n",
        "\n",
        "    if i==1: break"
      ],
      "metadata": {
        "colab": {
          "base_uri": "https://localhost:8080/"
        },
        "id": "QVaB6_MT0Dv8",
        "outputId": "843ec400-9a51-487f-8c36-cc9d4e41a73e"
      },
      "execution_count": null,
      "outputs": [
        {
          "output_type": "stream",
          "name": "stderr",
          "text": [
            "  0%|          | 1/3000 [00:02<1:48:52,  2.18s/it]"
          ]
        },
        {
          "output_type": "stream",
          "name": "stdout",
          "text": [
            "Two patients with systemic lupus erythematosus and high-titer antiphospholipid antibodies experienced acute, non-inflammatory visceral vascular occlusions, distinct from classic\n"
          ]
        },
        {
          "output_type": "stream",
          "name": "stderr",
          "text": [
            "\r  0%|          | 1/3000 [00:04<3:40:38,  4.41s/it]"
          ]
        },
        {
          "output_type": "stream",
          "name": "stdout",
          "text": [
            " In a study of 44 locally advanced bladder cancer patients who received neoadjuvant chemotherapy with cisplatin, methotrexate, and vinblastine (CMV), 10% achieved a\n"
          ]
        },
        {
          "output_type": "stream",
          "name": "stderr",
          "text": [
            "\n"
          ]
        }
      ]
    },
    {
      "cell_type": "code",
      "source": [
        "!pip install flask flask-cors pyngrok\n"
      ],
      "metadata": {
        "colab": {
          "base_uri": "https://localhost:8080/"
        },
        "id": "NGGVjyuOfOPu",
        "outputId": "636abcf7-d75b-4a51-a21f-da3a2728901a"
      },
      "execution_count": null,
      "outputs": [
        {
          "output_type": "stream",
          "name": "stdout",
          "text": [
            "Requirement already satisfied: flask in /usr/local/lib/python3.11/dist-packages (3.1.0)\n",
            "Requirement already satisfied: flask-cors in /usr/local/lib/python3.11/dist-packages (5.0.1)\n",
            "Requirement already satisfied: pyngrok in /usr/local/lib/python3.11/dist-packages (7.2.3)\n",
            "Requirement already satisfied: Werkzeug>=3.1 in /usr/local/lib/python3.11/dist-packages (from flask) (3.1.3)\n",
            "Requirement already satisfied: Jinja2>=3.1.2 in /usr/local/lib/python3.11/dist-packages (from flask) (3.1.5)\n",
            "Requirement already satisfied: itsdangerous>=2.2 in /usr/local/lib/python3.11/dist-packages (from flask) (2.2.0)\n",
            "Requirement already satisfied: click>=8.1.3 in /usr/local/lib/python3.11/dist-packages (from flask) (8.1.8)\n",
            "Requirement already satisfied: blinker>=1.9 in /usr/local/lib/python3.11/dist-packages (from flask) (1.9.0)\n",
            "Requirement already satisfied: PyYAML>=5.1 in /usr/local/lib/python3.11/dist-packages (from pyngrok) (6.0.2)\n",
            "Requirement already satisfied: MarkupSafe>=2.0 in /usr/local/lib/python3.11/dist-packages (from Jinja2>=3.1.2->flask) (3.0.2)\n"
          ]
        }
      ]
    },
    {
      "cell_type": "code",
      "source": [
        "def generate_summary(input_text):\n",
        "    \"\"\"\n",
        "    Returnează un rezumat al textului input_text, folosind modelul și tokenizer-ul încărcate.\n",
        "    \"\"\"\n",
        "    # Pregătim promptul (adaptează-l cum consideri necesar):\n",
        "    prompt = f\"<s>[INST] Summarize the following medical text:\\n{input_text}\\n[/INST]\\n\"\n",
        "\n",
        "\n",
        "    # Tokenizare\n",
        "    inputs = tokenizer(prompt, return_tensors='pt')\n",
        "    inputs = {k: v.to(model.device) for k, v in inputs.items()}  # pe GPU (dacă ai)\n",
        "\n",
        "    # Generare cu parametri custom:\n",
        "    output_ids = model.generate(\n",
        "        **inputs,\n",
        "        max_new_tokens=150,\n",
        "        do_sample=True,\n",
        "        temperature=0.7,\n",
        "        top_k=50,\n",
        "        top_p=0.9,\n",
        "        repetition_penalty=1.2\n",
        "    )\n",
        "\n",
        "    # Decodificare\n",
        "    decoded = tokenizer.decode(output_ids[0], skip_special_tokens=True)\n",
        "\n",
        "    return decoded\n",
        "\n"
      ],
      "metadata": {
        "id": "i-3UZI37fjeA"
      },
      "execution_count": null,
      "outputs": []
    },
    {
      "cell_type": "code",
      "source": [
        "import threading\n",
        "from flask import Flask, request, jsonify\n",
        "from flask_cors import CORS\n",
        "from pyngrok import ngrok\n",
        "\n",
        "# 1) Creează aplicația Flask\n",
        "app = Flask(__name__)\n",
        "CORS(app)\n",
        "\n",
        "# 2) Definim endpointul /predict\n",
        "@app.route('/predict', methods=['POST'])\n",
        "def predict():\n",
        "    data = request.get_json()\n",
        "    input_text = data.get('text', '')\n",
        "\n",
        "    # Apelăm funcția ta de inferență\n",
        "    summary = generate_summary(input_text)\n",
        "\n",
        "    return jsonify({\"summary\": summary})\n",
        "\n",
        "def run_app():\n",
        "    app.run(host='0.0.0.0', port=5000)\n",
        "\n",
        "# 3) Setăm token-ul ngrok\n",
        "ngrok.set_auth_token(\"2tG6oVwqRI5Mif7dLCUYIcWnSOv_3mWV1sePuE7V24zVgDU5b\")  # copiezi tokenul din contul tău ngrok\n",
        "\n",
        "# 4) Deschidem tunelul\n",
        "public_url = ngrok.connect(5000)\n",
        "print(\"Ngrok public URL:\", public_url.public_url)\n",
        "\n",
        "# 5) Pornim serverul Flask în thread\n",
        "server_thread = threading.Thread(target=run_app)\n",
        "server_thread.start()\n",
        "\n"
      ],
      "metadata": {
        "colab": {
          "base_uri": "https://localhost:8080/"
        },
        "id": "1W1ScVoAgKJJ",
        "outputId": "5718f2e2-3982-4150-ebc3-f8d7cb471f6b"
      },
      "execution_count": null,
      "outputs": [
        {
          "output_type": "stream",
          "name": "stdout",
          "text": [
            "Ngrok public URL: https://594c-35-240-192-245.ngrok-free.app\n",
            " * Serving Flask app '__main__'\n",
            " * Debug mode: off\n"
          ]
        }
      ]
    },
    {
      "cell_type": "code",
      "source": [
        "import requests\n",
        "\n",
        "test_input = {\"text\": \"Acesta este un text medical foarte lung...\"}\n",
        "url = f\"{public_url.public_url}/predict\"\n",
        "\n",
        "resp = requests.post(url, json=test_input)\n",
        "print(\"Status code:\", resp.status_code)\n",
        "print(\"Răspuns:\", resp.json())\n"
      ],
      "metadata": {
        "colab": {
          "base_uri": "https://localhost:8080/"
        },
        "id": "eh7hci7Wi99x",
        "outputId": "3474eeaf-5927-4227-c6d9-9afd9e29f136"
      },
      "execution_count": null,
      "outputs": [
        {
          "output_type": "stream",
          "name": "stderr",
          "text": [
            "Setting `pad_token_id` to `eos_token_id`:2 for open-end generation.\n",
            "INFO:werkzeug:127.0.0.1 - - [06/Mar/2025 12:44:35] \"POST /predict HTTP/1.1\" 200 -\n"
          ]
        },
        {
          "output_type": "stream",
          "name": "stdout",
          "text": [
            "Status code: 200\n",
            "Răspuns: {'summary': \"[INST] Summarize the following medical text:\\nAcesta este un text medical foarte lung...\\n[/INST]\\nI'm sorry, but you have provided a long medical text in Romanian without an English translation. In order to summarize it accurately, I would need to understand its content first by translating or having it translated into English. Could you please provide an English version of the text for me to work with? Once I have that, I will be happy to help summarize it for you.\"}\n"
          ]
        }
      ]
    },
    {
      "cell_type": "code",
      "source": [
        "from flask_cors import CORS\n",
        "app = Flask(__name__)\n",
        "CORS(app)\n"
      ],
      "metadata": {
        "colab": {
          "base_uri": "https://localhost:8080/"
        },
        "id": "-hTtZiqMsCUz",
        "outputId": "0cc76dd9-af03-4ac0-bddc-784c49bc5092"
      },
      "execution_count": null,
      "outputs": [
        {
          "output_type": "execute_result",
          "data": {
            "text/plain": [
              "<flask_cors.extension.CORS at 0x7b1f3858f850>"
            ]
          },
          "metadata": {},
          "execution_count": 36
        }
      ]
    }
  ]
}